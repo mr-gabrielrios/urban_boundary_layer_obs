{
 "cells": [
  {
   "cell_type": "markdown",
   "id": "bc75b8a5",
   "metadata": {},
   "source": [
    "### AMDAR Data Processing & Visualization\n",
    "Database URL: https://madis-data.cprk.ncep.noaa.gov/madisPublic1/data/archive/\n",
    "\n",
    "Reference publication(s):\n",
    "- https://doi.org/10.1029/2018JD029529"
   ]
  },
  {
   "cell_type": "markdown",
   "id": "f4eb8375",
   "metadata": {},
   "source": [
    "#### Import required dependencies"
   ]
  },
  {
   "cell_type": "code",
   "execution_count": 368,
   "id": "cc0e7c43",
   "metadata": {},
   "outputs": [],
   "source": [
    "import datetime, gzip, matplotlib.pyplot as plt, numpy as np, os, pandas as pd, requests, shutil, ssl, tarfile, urllib, xarray as xr\n",
    "\n",
    "from bs4 import BeautifulSoup"
   ]
  },
  {
   "cell_type": "markdown",
   "id": "9edd4303",
   "metadata": {},
   "source": [
    "#### Define function to download AMDAR data"
   ]
  },
  {
   "cell_type": "code",
   "execution_count": 370,
   "id": "2f1358cd",
   "metadata": {},
   "outputs": [],
   "source": [
    "def acars_data_download(local_dir, date, airport, delete_files=False):\n",
    "    '''\n",
    "    Function to download AMDAR data from a given airport to a local directory and construct an xArray Dataset with the specified parameters.\n",
    "    \n",
    "    Parameters\n",
    "    ----------\n",
    "    local_dir : str\n",
    "        Path to a local directory where AMDAR .tar.gz files will be stored.\n",
    "    date : str\n",
    "        Datetime string of format '%Y-%m-%d'. For example, a valid date would be '2021-08-01'.\n",
    "    airport : str\n",
    "        3-character string representing an IATA airport code (e.g., 'JFK', 'MIA', etc.)\n",
    "    delete_files : bool\n",
    "        Boolean to designate whether or not downloaded AMDAR .tar.gz files will be kept locally after constructing the xArray Dataset.\n",
    "\n",
    "    Returns\n",
    "    -------\n",
    "    data : xArray Dataset\n",
    "        xArray Dataset containing AMDAR data for the specified parameters.\n",
    "    \n",
    "    '''\n",
    "    \n",
    "    # Define variables of interest\n",
    "    vars_ = ['trackLat', 'trackLon', 'temperature', 'windDir', 'windSpeed', 'dewpoint', 'relHumidity']\n",
    "    # Grab year, day, and month from given date and generate strings for each. Will be used to build the acccess URL.\n",
    "    date_string = datetime.datetime.strptime(date, '%Y-%m-%d')\n",
    "    year, month, day = [date_string.strftime('%Y'), \n",
    "                         date_string.strftime('%m'), \n",
    "                         date_string.strftime('%d')]\n",
    "    # Define URL for the ACARS profile directory that access is desired from\n",
    "    parent_url = 'https://madis-data.cprk.ncep.noaa.gov/madisPublic1/data/archive/{0}/{1}/{2}/point/acarsProfiles/netcdf/'.format(year, month, day)\n",
    "    # Certificate access workaround\n",
    "    ssl._create_default_https_context = ssl._create_unverified_context\n",
    "    # Create HTML readout of parent_url to allow for link extraction\n",
    "    soup = BeautifulSoup(requests.get(parent_url, verify=False).content, features='html.parser')\n",
    "    # Initialize list of hourly xArray Datasets to be concatenated later\n",
    "    files = []\n",
    "    # Iterate through the page to find links to .gz files\n",
    "    for a in soup.find_all('a'):\n",
    "        # Filter out non .gz links\n",
    "        if '.gz' in a['href']:\n",
    "            # Build file path to remote .tar files\n",
    "            tar_ = os.path.join(parent_url, a['href'])\n",
    "            # Build file path to local directory where files will be stored\n",
    "            file_out = os.path.join(local_dir, 'acars.' + a['href'])\n",
    "            # Check if file already exists locally. If so, skip. Else, download.\n",
    "            if not os.path.isfile(file_out):\n",
    "                response = requests.get(tar_, stream=True)\n",
    "                if response.status_code == 200:\n",
    "                    with open(file_out, 'wb') as f:\n",
    "                        f.write(response.raw.read())\n",
    "            # Try to construct a raw xArray Dataset from the AMDAR profile data.\n",
    "            try:\n",
    "                xr_hour = xr.open_dataset(file_out)\n",
    "            except:\n",
    "                pass\n",
    "            # Iterate through all flights\n",
    "            for i in xr_hour.recNum:\n",
    "                # Get string name for airport relevant to the flight\n",
    "                str_ = xr_hour.isel(recNum=i)['profileAirport'].values.astype(str)\n",
    "                # If the airport string matches the target string, process data\n",
    "                if str_ == airport:\n",
    "                    # Pull xArray Dataset corresponding to this airport\n",
    "                    temp = xr_hour.isel(recNum=i)\n",
    "                    # Get flight data report time\n",
    "                    time_ = [xr_hour.isel(recNum=i)['profileTime'].values]\n",
    "                    # Get flight data report heights\n",
    "                    heights_ = xr_hour.isel(recNum=i)['altitude'].values\n",
    "                    # Get airport coordinates based on averages from ascents and descents.\n",
    "                    lon_, lat_ = [np.nanmean(xr_hour.isel(recNum=i)['longitude'].values),\n",
    "                                 np.nanmean(xr_hour.isel(recNum=i)['latitude'].values)]\n",
    "                    # Construct hourly Dataset. Assume constant longitude and latitude.\n",
    "                    ds = xr.Dataset(data_vars={\n",
    "                        'temperature': (['time', 'height'], [temp['temperature'].values]),\n",
    "                        'relative_humidity': (['time', 'height'], [temp['relHumidity'].values]),\n",
    "                        'pressure': (['time', 'height'], [1000*np.exp(-temp['altitude'].values/(29.3*temp['temperature'].values))]),\n",
    "                    },\n",
    "                                    coords={\n",
    "                                       'time': (['time'], time_),\n",
    "                                       'height': (['height'], heights_),\n",
    "                                       'longitude': (['longitude'], [lon_]),\n",
    "                                       'latitude': (['latitude'], [lat_]),\n",
    "                                   })\n",
    "                    # Include derived parameter calculations here.\n",
    "                    ds['potential_temperature'] = ds['temperature'] * (1000/ds['pressure']) ** (287/1004)\n",
    "                    # Append hourly data to the xArray container list\n",
    "                    files.append(ds)\n",
    "                    \n",
    "    # Remove files if option is chosen. \n",
    "    if delete_files:\n",
    "        for file in os.listdir(local_dir):\n",
    "            if '.gz' in os.path.join(local_dir, file):\n",
    "                os.remove(os.path.join(local_dir, file))\n",
    "    # Try to concatenate files along height (flights will record at different heights).\n",
    "    try:\n",
    "        xr_data = xr.concat(files, dim='height')\n",
    "        # Remove nans from height axis (profiles typically cut out over 10k meters at cruise)\n",
    "        xr_data = xr_data.where(~np.isnan(xr_data['height']), drop=True)\n",
    "        # Sort the Dataset by the primary dimensions\n",
    "        xr_data = xr_data.sortby(['time', 'height'])\n",
    "        # Remove duplicates\n",
    "        _, index = np.unique(xr_data['height'], return_index=True)\n",
    "        xr_data = xr_data.isel(height=index)\n",
    "    except:\n",
    "        xr_data = None\n",
    "    \n",
    "    return xr_data"
   ]
  },
  {
   "cell_type": "markdown",
   "id": "ddc88582",
   "metadata": {},
   "source": [
    "#### Example run for Newark Liberty International (IATA code: EWR) on 2019-06-29.\n",
    "\n",
    "Note: this date was chosen to compare visually with Figures 3a and 3b in the reference publication listed above. "
   ]
  },
  {
   "cell_type": "code",
   "execution_count": 389,
   "id": "0c040542",
   "metadata": {
    "scrolled": true
   },
   "outputs": [
    {
     "data": {
      "image/png": "[encoded data removed]",
      "text/plain": [
       "<Figure size 432x288 with 2 Axes>"
      ]
     },
     "metadata": {
      "needs_background": "light"
     },
     "output_type": "display_data"
    }
   ],
   "source": [
    "# Define local directory\n",
    "local_dir = '/Volumes/UBL Data/data/amdar'\n",
    "# Define date of interest\n",
    "date = '2016-06-29'\n",
    "# Define airport (Newark Liberty International defined here)\n",
    "airport = 'EWR'\n",
    "# Acquire data for the given day\n",
    "xr_data = acars_data_download(local_dir, date, airport, delete_files=False)\n",
    "\n",
    "# Plot data\n",
    "fig, ax = plt.subplots(ncols=2, sharey=True)\n",
    "hours, param = [7, 14], 'potential_temperature'\n",
    "for i, hour in enumerate(hours):\n",
    "    hourly_mean, hourly_std = [xr_data[param].groupby('time.hour').mean().isel(hour=hour), \n",
    "                               xr_data[param].groupby('time.hour').std().isel(hour=hour)]\n",
    "    mask = ~np.isnan(hourly_mean.values)\n",
    "    hourly_mean, hourly_std = hourly_mean[mask], hourly_std[mask]\n",
    "    im_mean = ax[i].plot(hourly_mean, hourly_mean.height, marker='o', lw=0)\n",
    "    ax[i].set_xlim([295, 305])\n",
    "    ax[i].set_ylim([0, 3000])\n",
    "    ax[i].set_title('{0}:00 UTC'.format(hour))\n",
    "fig.tight_layout()"
   ]
  }
 ],
 "metadata": {
  "kernelspec": {
   "display_name": "Python 3 (ipykernel)",
   "language": "python",
   "name": "python3"
  },
  "language_info": {
   "codemirror_mode": {
    "name": "ipython",
    "version": 3
   },
   "file_extension": ".py",
   "mimetype": "text/x-python",
   "name": "python",
   "nbconvert_exporter": "python",
   "pygments_lexer": "ipython3",
   "version": "3.8.8"
  }
 },
 "nbformat": 4,
 "nbformat_minor": 5
}
